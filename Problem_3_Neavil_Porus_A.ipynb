{
  "nbformat": 4,
  "nbformat_minor": 0,
  "metadata": {
    "colab": {
      "provenance": []
    },
    "kernelspec": {
      "name": "python3",
      "display_name": "Python 3"
    },
    "language_info": {
      "name": "python"
    }
  },
  "cells": [
    {
      "cell_type": "code",
      "execution_count": 1,
      "metadata": {
        "colab": {
          "base_uri": "https://localhost:8080/"
        },
        "id": "PqxtrRBWJD09",
        "outputId": "81f4c973-32b8-46d6-f163-22029d95e080"
      },
      "outputs": [
        {
          "output_type": "stream",
          "name": "stderr",
          "text": [
            "100%|██████████| 9.91M/9.91M [00:00<00:00, 16.2MB/s]\n",
            "100%|██████████| 28.9k/28.9k [00:00<00:00, 482kB/s]\n",
            "100%|██████████| 1.65M/1.65M [00:00<00:00, 4.45MB/s]\n",
            "100%|██████████| 4.54k/4.54k [00:00<00:00, 4.17MB/s]\n"
          ]
        },
        {
          "output_type": "stream",
          "name": "stdout",
          "text": [
            "Epoch 1, Loss: 158.0420\n",
            "Epoch 2, Loss: 117.8744\n",
            "Epoch 3, Loss: 110.7497\n",
            "Epoch 4, Loss: 107.5139\n",
            "Epoch 5, Loss: 105.6369\n",
            "Epoch 6, Loss: 104.3360\n",
            "Epoch 7, Loss: 103.3819\n",
            "Epoch 8, Loss: 102.7071\n",
            "Epoch 9, Loss: 102.0911\n",
            "Epoch 10, Loss: 101.5719\n"
          ]
        }
      ],
      "source": [
        "import torch\n",
        "import torch.nn as nn\n",
        "import torch.optim as optim\n",
        "from torchvision import datasets, transforms\n",
        "from torch.utils.data import DataLoader\n",
        "\n",
        "device = torch.device('cuda' if torch.cuda.is_available() else 'cpu')\n",
        "\n",
        "# Load MNIST\n",
        "transform = transforms.ToTensor()\n",
        "train_data = datasets.MNIST(root='./data', train=True, download=True, transform=transform)\n",
        "train_loader = DataLoader(train_data, batch_size=128, shuffle=True)\n",
        "\n",
        "# CVAE Components\n",
        "class CVAE(nn.Module):\n",
        "    def __init__(self, latent_dim=20):\n",
        "        super(CVAE, self).__init__()\n",
        "        self.latent_dim = latent_dim\n",
        "        self.label_embedding = nn.Embedding(10, 10)\n",
        "\n",
        "        self.encoder = nn.Sequential(\n",
        "            nn.Linear(28*28 + 10, 400),\n",
        "            nn.ReLU()\n",
        "        )\n",
        "        self.mu = nn.Linear(400, latent_dim)\n",
        "        self.logvar = nn.Linear(400, latent_dim)\n",
        "\n",
        "        self.decoder = nn.Sequential(\n",
        "            nn.Linear(latent_dim + 10, 400),\n",
        "            nn.ReLU(),\n",
        "            nn.Linear(400, 784),\n",
        "            nn.Sigmoid()\n",
        "        )\n",
        "\n",
        "    def encode(self, x, y):\n",
        "        y_embed = self.label_embedding(y)\n",
        "        x = torch.cat([x.view(-1, 784), y_embed], dim=1)\n",
        "        h = self.encoder(x)\n",
        "        return self.mu(h), self.logvar(h)\n",
        "\n",
        "    def reparameterize(self, mu, logvar):\n",
        "        std = torch.exp(0.5 * logvar)\n",
        "        eps = torch.randn_like(std)\n",
        "        return mu + eps * std\n",
        "\n",
        "    def decode(self, z, y):\n",
        "        y_embed = self.label_embedding(y)\n",
        "        z = torch.cat([z, y_embed], dim=1)\n",
        "        return self.decoder(z)\n",
        "\n",
        "    def forward(self, x, y):\n",
        "        mu, logvar = self.encode(x, y)\n",
        "        z = self.reparameterize(mu, logvar)\n",
        "        recon = self.decode(z, y)\n",
        "        return recon, mu, logvar\n",
        "\n",
        "# Loss Function\n",
        "def loss_fn(recon_x, x, mu, logvar):\n",
        "    BCE = nn.functional.binary_cross_entropy(recon_x, x.view(-1, 784), reduction='sum')\n",
        "    KLD = -0.5 * torch.sum(1 + logvar - mu.pow(2) - logvar.exp())\n",
        "    return BCE + KLD\n",
        "\n",
        "# Initialize and Train\n",
        "model = CVAE().to(device)\n",
        "optimizer = optim.Adam(model.parameters(), lr=1e-3)\n",
        "\n",
        "epochs = 10  # You can adjust\n",
        "for epoch in range(epochs):\n",
        "    model.train()\n",
        "    train_loss = 0\n",
        "    for x, y in train_loader:\n",
        "        x, y = x.to(device), y.to(device)\n",
        "        optimizer.zero_grad()\n",
        "        recon, mu, logvar = model(x, y)\n",
        "        loss = loss_fn(recon, x, mu, logvar)\n",
        "        loss.backward()\n",
        "        train_loss += loss.item()\n",
        "        optimizer.step()\n",
        "    print(f\"Epoch {epoch+1}, Loss: {train_loss / len(train_loader.dataset):.4f}\")\n",
        "\n",
        "# Save model\n",
        "torch.save(model.state_dict(), 'cvae_mnist.pth')"
      ]
    }
  ]
}